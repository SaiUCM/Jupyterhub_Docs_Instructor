{
 "cells": [
  {
   "cell_type": "raw",
   "metadata": {},
   "source": [
    "# ASSIGNMENT CONFIG\n",
    "generate: true\n",
    "export_cell:\n",
    "    run_tests: true\n",
    "    pdf: true\n",
    "seed:\n",
    "    variable: rng_seed\n",
    "    autograder_value: 42\n",
    "    student_value: 90"
   ]
  },
  {
   "cell_type": "code",
   "execution_count": 1,
   "metadata": {},
   "outputs": [],
   "source": [
    "import matplotlib.pyplot as plt\n",
    "import numpy as np\n",
    "import pandas as df\n",
    "\n",
    "from datascience import *\n",
    "\n",
    "%matplotlib inline\n",
    "rng_seed = 42"
   ]
  },
  {
   "cell_type": "markdown",
   "metadata": {},
   "source": [
    "# Data 375 Sample Autograded Assignment\n",
    "\n",
    "References:\n",
    "* Otter Docs v5.5.0: [link](https://otter-grader.readthedocs.io/en/latest/otter_assign/notebook_format.html#sample-notebook)\n",
    "* *Inferential Thinking* Data 8 textbook, Chapter 8.2: [link](https://inferentialthinking.com/chapters/08/2/Classifying_by_One_Variable.html?highlight=ice+cream)\n",
    "* Data 8 Spring 2024 Python Reference: [link](https://www.data8.org/sp24/reference/)"
   ]
  },
  {
   "cell_type": "raw",
   "metadata": {},
   "source": [
    "# BEGIN QUESTION\n",
    "name: q1\n",
    "points: 10"
   ]
  },
  {
   "cell_type": "markdown",
   "metadata": {},
   "source": [
    "<br/>\n",
    "<hr style=\"border: 5px solid #003262;\">\n",
    "<hr style=\"border: 1px solid #fdb515;\">\n",
    "\n",
    "## [autograder] Question 1\n",
    "\n",
    "**student question**: Write a function ``gcd`` that takes in two positive integers ``a`` and ``b`` and returns their greatest common divisor.\n",
    "\n",
    "**Data 375**:\n",
    "\n",
    "1. Try providing the following solution in a student file:\n",
    "\n",
    "```\n",
    "    if a == 0:\n",
    "        return b\n",
    "    return gcd(b % a, a)\n",
    "```\n",
    "\n",
    "2. Try adding two unit tests. What are they testing? Why?"
   ]
  },
  {
   "cell_type": "raw",
   "metadata": {},
   "source": [
    "# BEGIN SOLUTION"
   ]
  },
  {
   "cell_type": "code",
   "execution_count": 2,
   "metadata": {},
   "outputs": [],
   "source": [
    "def gcd(a, b):\n",
    "    \"\"\"\n",
    "    Find the GCD of two positive integers.\n",
    "    \"\"\"\n",
    "    # BEGIN SOLUTION\n",
    "    if a == 0:\n",
    "        return b\n",
    "    return gcd(b % a, a)\n",
    "    # END SOLUTION"
   ]
  },
  {
   "cell_type": "raw",
   "metadata": {},
   "source": [
    "# END SOLUTION"
   ]
  },
  {
   "cell_type": "raw",
   "metadata": {},
   "source": [
    "# BEGIN TESTS"
   ]
  },
  {
   "cell_type": "code",
   "execution_count": 3,
   "metadata": {},
   "outputs": [
    {
     "data": {
      "text/plain": [
       "True"
      ]
     },
     "execution_count": 3,
     "metadata": {},
     "output_type": "execute_result"
    }
   ],
   "source": [
    "gcd(1, 1) == 1"
   ]
  },
  {
   "cell_type": "code",
   "execution_count": 4,
   "metadata": {},
   "outputs": [
    {
     "data": {
      "text/plain": [
       "True"
      ]
     },
     "execution_count": 4,
     "metadata": {},
     "output_type": "execute_result"
    }
   ],
   "source": [
    "gcd(2, 1) == 1"
   ]
  },
  {
   "cell_type": "code",
   "execution_count": 5,
   "metadata": {},
   "outputs": [
    {
     "data": {
      "text/plain": [
       "True"
      ]
     },
     "execution_count": 5,
     "metadata": {},
     "output_type": "execute_result"
    }
   ],
   "source": [
    "gcd(5, 5) == 5"
   ]
  },
  {
   "cell_type": "code",
   "execution_count": 6,
   "metadata": {},
   "outputs": [
    {
     "data": {
      "text/plain": [
       "True"
      ]
     },
     "execution_count": 6,
     "metadata": {},
     "output_type": "execute_result"
    }
   ],
   "source": [
    "gcd(10, 4) == 2"
   ]
  },
  {
   "cell_type": "code",
   "execution_count": 7,
   "metadata": {},
   "outputs": [
    {
     "data": {
      "text/plain": [
       "True"
      ]
     },
     "execution_count": 7,
     "metadata": {},
     "output_type": "execute_result"
    }
   ],
   "source": [
    "\"\"\" # BEGIN TEST CONFIG\n",
    "points: 0.5\n",
    "hidden: true\n",
    "\"\"\" # END TEST CONFIG\n",
    "gcd(121, 11) == 11"
   ]
  },
  {
   "cell_type": "code",
   "execution_count": 8,
   "metadata": {},
   "outputs": [
    {
     "data": {
      "text/plain": [
       "True"
      ]
     },
     "execution_count": 8,
     "metadata": {},
     "output_type": "execute_result"
    }
   ],
   "source": [
    "\"\"\" # BEGIN TEST CONFIG\n",
    "points: 0.5\n",
    "hidden: true\n",
    "\"\"\" # END TEST CONFIG\n",
    "gcd(807306, 622896) == 4098"
   ]
  },
  {
   "cell_type": "raw",
   "metadata": {},
   "source": [
    "# END TESTS"
   ]
  },
  {
   "cell_type": "raw",
   "metadata": {},
   "source": [
    "# END QUESTION"
   ]
  },
  {
   "cell_type": "raw",
   "metadata": {},
   "source": [
    "# BEGIN QUESTION\n",
    "name: q2\n",
    "manual: true\n",
    "points: 10"
   ]
  },
  {
   "cell_type": "markdown",
   "metadata": {},
   "source": [
    "<br/>\n",
    "<hr style=\"border: 5px solid #003262;\">\n",
    "<hr style=\"border: 1px solid #fdb515;\">\n",
    "\n",
    "## [manual] Question 2\n",
    "\n",
    "Evaluate the integral:\n",
    "\n",
    "$$\n",
    "\\int x e^x \\, \\mathrm dx\n",
    "$$"
   ]
  },
  {
   "cell_type": "raw",
   "metadata": {},
   "source": [
    "# BEGIN PROMPT"
   ]
  },
  {
   "cell_type": "markdown",
   "metadata": {},
   "source": [
    "$$\n",
    "\\begin{aligned}\n",
    "\\int x e^x \\, \\mathrm dx &= \\texttt{\n",
    "\\# YOUR MATH HERE} \n",
    "\\end{aligned}\n",
    "$$"
   ]
  },
  {
   "cell_type": "raw",
   "metadata": {},
   "source": [
    "# END PROMPT"
   ]
  },
  {
   "cell_type": "raw",
   "metadata": {
    "tags": []
   },
   "source": [
    "# BEGIN SOLUTION"
   ]
  },
  {
   "cell_type": "markdown",
   "metadata": {},
   "source": [
    "**SOLUTION:**\n",
    "\n",
    "$$\n",
    "\\begin{aligned}\n",
    "\\int x e^x \\, \\mathrm dx &= x e^x - \\int e^x \\, \\mathrm dx \\\\\n",
    "&= x e^x - e^x + C \\\\\n",
    "&= e^x (x - 1) + C \\\\\n",
    "\\end{aligned}\n",
    "$$"
   ]
  },
  {
   "cell_type": "raw",
   "metadata": {},
   "source": [
    "# END SOLUTION"
   ]
  },
  {
   "cell_type": "raw",
   "metadata": {},
   "source": [
    "# END QUESTION"
   ]
  },
  {
   "cell_type": "raw",
   "metadata": {},
   "source": [
    "# BEGIN QUESTION\n",
    "name: q3\n",
    "points: 10"
   ]
  },
  {
   "cell_type": "markdown",
   "metadata": {},
   "source": [
    "<br/>\n",
    "<hr style=\"border: 5px solid #003262;\">\n",
    "<hr style=\"border: 1px solid #fdb515;\">\n",
    "\n",
    "## [autograder] Question 3\n",
    "\n",
    "**setup**: Run the below cell."
   ]
  },
  {
   "cell_type": "code",
   "execution_count": 9,
   "metadata": {},
   "outputs": [
    {
     "data": {
      "text/html": [
       "<table border=\"1\" class=\"dataframe\">\n",
       "    <thead>\n",
       "        <tr>\n",
       "            <th>Flavor</th> <th>Price</th>\n",
       "        </tr>\n",
       "    </thead>\n",
       "    <tbody>\n",
       "        <tr>\n",
       "            <td>strawberry</td> <td>3.55 </td>\n",
       "        </tr>\n",
       "        <tr>\n",
       "            <td>chocolate </td> <td>4.75 </td>\n",
       "        </tr>\n",
       "        <tr>\n",
       "            <td>chocolate </td> <td>6.55 </td>\n",
       "        </tr>\n",
       "        <tr>\n",
       "            <td>strawberry</td> <td>5.25 </td>\n",
       "        </tr>\n",
       "        <tr>\n",
       "            <td>chocolate </td> <td>5.25 </td>\n",
       "        </tr>\n",
       "    </tbody>\n",
       "</table>"
      ],
      "text/plain": [
       "Flavor     | Price\n",
       "strawberry | 3.55\n",
       "chocolate  | 4.75\n",
       "chocolate  | 6.55\n",
       "strawberry | 5.25\n",
       "chocolate  | 5.25"
      ]
     },
     "execution_count": 9,
     "metadata": {},
     "output_type": "execute_result"
    }
   ],
   "source": [
    "# just run this cell\n",
    "cones = Table().with_columns(\n",
    "    'Flavor', make_array('strawberry', 'chocolate', 'chocolate', 'strawberry', 'chocolate'),\n",
    "    'Price', make_array(3.55, 4.75, 6.55, 5.25, 5.25)\n",
    ")\n",
    "cones"
   ]
  },
  {
   "cell_type": "markdown",
   "metadata": {},
   "source": [
    "**student question**: Group together the `cones` Table by flavor. Assign this new Table to `q3`.\n",
    "\n",
    "**Data 375**:\n",
    "1. [discuss\\] Why are the unit tests reasonable as written, despite us not using any asserts?\n",
    "\n",
    "1. These are both valid solutions that should pass, but currently one does not.  How can we update/modify the unit tests to allow for both?\n",
    " \n",
    "      * `cones.group('Flavor')`\n",
    "      * `cones.group('Flavor').sort('Flavor', descending=True)`\n",
    "\n",
    "1. How might we better write the below unit tests? Are we missing any additional tests?"
   ]
  },
  {
   "cell_type": "raw",
   "metadata": {
    "tags": []
   },
   "source": [
    "# BEGIN SOLUTION"
   ]
  },
  {
   "cell_type": "code",
   "execution_count": 10,
   "metadata": {},
   "outputs": [
    {
     "data": {
      "text/html": [
       "<table border=\"1\" class=\"dataframe\">\n",
       "    <thead>\n",
       "        <tr>\n",
       "            <th>Flavor</th> <th>count</th>\n",
       "        </tr>\n",
       "    </thead>\n",
       "    <tbody>\n",
       "        <tr>\n",
       "            <td>chocolate </td> <td>3    </td>\n",
       "        </tr>\n",
       "        <tr>\n",
       "            <td>strawberry</td> <td>2    </td>\n",
       "        </tr>\n",
       "    </tbody>\n",
       "</table>"
      ],
      "text/plain": [
       "Flavor     | count\n",
       "chocolate  | 3\n",
       "strawberry | 2"
      ]
     },
     "execution_count": 10,
     "metadata": {},
     "output_type": "execute_result"
    }
   ],
   "source": [
    "q3 = cones.group('Flavor') # SOLUTION\n",
    "q3"
   ]
  },
  {
   "cell_type": "raw",
   "metadata": {},
   "source": [
    "# END SOLUTION"
   ]
  },
  {
   "cell_type": "raw",
   "metadata": {},
   "source": [
    "# BEGIN TESTS"
   ]
  },
  {
   "cell_type": "code",
   "execution_count": 11,
   "metadata": {},
   "outputs": [
    {
     "data": {
      "text/plain": [
       "(2, 2)"
      ]
     },
     "execution_count": 11,
     "metadata": {},
     "output_type": "execute_result"
    }
   ],
   "source": [
    "q3.num_rows, q3.num_columns"
   ]
  },
  {
   "cell_type": "code",
   "execution_count": 12,
   "metadata": {},
   "outputs": [
    {
     "data": {
      "text/plain": [
       "3"
      ]
     },
     "execution_count": 12,
     "metadata": {},
     "output_type": "execute_result"
    }
   ],
   "source": [
    "q3.where('Flavor', are.equal_to('chocolate')).column('count')[0]"
   ]
  },
  {
   "cell_type": "code",
   "execution_count": 13,
   "metadata": {},
   "outputs": [
    {
     "data": {
      "text/plain": [
       "True"
      ]
     },
     "execution_count": 13,
     "metadata": {},
     "output_type": "execute_result"
    }
   ],
   "source": [
    "q3.row(0).item('count') == 3"
   ]
  },
  {
   "cell_type": "raw",
   "metadata": {},
   "source": [
    "# END TESTS"
   ]
  },
  {
   "cell_type": "raw",
   "metadata": {},
   "source": [
    "# END QUESTION"
   ]
  },
  {
   "cell_type": "raw",
   "metadata": {},
   "source": [
    "# BEGIN QUESTION\n",
    "name: q4\n",
    "points: 10"
   ]
  },
  {
   "cell_type": "markdown",
   "metadata": {},
   "source": [
    "<br/>\n",
    "<hr style=\"border: 5px solid #003262;\">\n",
    "<hr style=\"border: 1px solid #fdb515;\">\n",
    "\n",
    "## [Bonus] Question 4\n",
    "\n",
    "Write a function `box_muller` that takes in two $U(0,1)$ random variables and returns two standard normal random variables using the Box-Muller algorithm. Use this function to generate 1000 standard normal random variables. Make sure to use the provided RNG to generate your $U(0,1)$ RVs."
   ]
  },
  {
   "cell_type": "raw",
   "metadata": {},
   "source": [
    "# BEGIN SOLUTION"
   ]
  },
  {
   "cell_type": "code",
   "execution_count": 14,
   "metadata": {},
   "outputs": [],
   "source": [
    "rng = np.random.default_rng(rng_seed)\n",
    "\n",
    "def box_muller(u1, u2):\n",
    "    \"\"\"\n",
    "    Generate two standard normal random variables from two U(0,1) random variables.\n",
    "    \"\"\"\n",
    "    # BEGIN SOLUTION\n",
    "    r = np.sqrt(-2 * np.log(u1))\n",
    "    theta = 2 * np.pi * u2\n",
    "    return r * np.cos(theta), r * np.sin(theta)\n",
    "    # END SOLUTION\n",
    "\n",
    "rvs = np.array([box_muller(rng.random(), rng.random()) for _ in range(500)]).flatten() # SOLUTION"
   ]
  },
  {
   "cell_type": "raw",
   "metadata": {},
   "source": [
    "# END SOLUTION"
   ]
  },
  {
   "cell_type": "raw",
   "metadata": {},
   "source": [
    "# BEGIN TESTS"
   ]
  },
  {
   "cell_type": "code",
   "execution_count": 15,
   "metadata": {},
   "outputs": [
    {
     "data": {
      "text/plain": [
       "True"
      ]
     },
     "execution_count": 15,
     "metadata": {},
     "output_type": "execute_result"
    }
   ],
   "source": [
    "rvs.shape == (1000,)"
   ]
  },
  {
   "cell_type": "code",
   "execution_count": 16,
   "metadata": {},
   "outputs": [
    {
     "data": {
      "text/plain": [
       "True"
      ]
     },
     "execution_count": 16,
     "metadata": {},
     "output_type": "execute_result"
    }
   ],
   "source": [
    "np.allclose(box_muller(0.5, 0.5), (-1.1774100225154747, 1.4419114153575892e-16))"
   ]
  },
  {
   "cell_type": "code",
   "execution_count": 17,
   "metadata": {},
   "outputs": [
    {
     "data": {
      "text/plain": [
       "True"
      ]
     },
     "execution_count": 17,
     "metadata": {},
     "output_type": "execute_result"
    }
   ],
   "source": [
    "\"\"\" # BEGIN TEST CONFIG\n",
    "points: 1\n",
    "hidden: true\n",
    "\"\"\" # END TEST CONFIG\n",
    "test_rng = np.random.default_rng(1048)\n",
    "idx = test_rng.choice(np.arange(len(rvs)), 10)\n",
    "np.allclose(rvs[idx], [2.06150769, -1.24834522, -1.03226524, -0.90264717, -0.71005571, -1.340234  ,  1.77047974, -0.31023336,  1.51417285,  0.64113867])"
   ]
  },
  {
   "cell_type": "raw",
   "metadata": {},
   "source": [
    "# END TESTS"
   ]
  },
  {
   "cell_type": "raw",
   "metadata": {},
   "source": [
    "# END QUESTION"
   ]
  }
 ],
 "metadata": {
  "kernelspec": {
   "display_name": "Python 3 (ipykernel)",
   "language": "python",
   "name": "python3"
  },
  "language_info": {
   "codemirror_mode": {
    "name": "ipython",
    "version": 3
   },
   "file_extension": ".py",
   "mimetype": "text/x-python",
   "name": "python",
   "nbconvert_exporter": "python",
   "pygments_lexer": "ipython3",
   "version": "3.11.8"
  }
 },
 "nbformat": 4,
 "nbformat_minor": 4
}
